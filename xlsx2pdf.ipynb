{
 "cells": [
  {
   "cell_type": "code",
   "execution_count": 1,
   "metadata": {},
   "outputs": [],
   "source": [
    "import os\n",
    "import cv2\n",
    "import jpype\n",
    "import shutil\n",
    "import weasyprint\n",
    "from bs4 import BeautifulSoup\n",
    "\n",
    "jpype.startJVM()\n",
    "from asposecells.api import *"
   ]
  },
  {
   "cell_type": "code",
   "execution_count": 3,
   "metadata": {},
   "outputs": [],
   "source": [
    "def generatePDF(XLSXPath, OutPath):\n",
    "    workbook = Workbook(XLSXPath)\n",
    "    workbook.save(f\"sheet.html\", SaveFormat.HTML)\n",
    "\n",
    "    with open(f'./sheet_files/sheet001.htm') as f:\n",
    "        htmlDoc = f.read()\n",
    "\n",
    "    soup = BeautifulSoup(htmlDoc, 'html.parser')\n",
    "    table = soup.find_all('table')[0]\n",
    "\n",
    "    with open(f'./sheet_files/stylesheet.css') as f:\n",
    "        styles = f.read()\n",
    "\n",
    "    with open(f'out.html', 'w') as f:\n",
    "        f.write(f'''\n",
    "            <style>\n",
    "                {styles}\n",
    "                @page {{size: A4; margin:0;}}\n",
    "                table {{margin:auto; margin-top: 5mm;}}\n",
    "                table, tr, td {{border: 1px solid #000 !important;}}\n",
    "            </style>\n",
    "        ''')\n",
    "        f.write(str(table.prettify()))\n",
    "\n",
    "    weasyprint.HTML('out.html').write_pdf(OutPath)\n",
    "\n",
    "def cleanPDF(OutPath):\n",
    "    shutil.rmtree('./sheet_files')\n",
    "    os.remove('./out.html')\n",
    "    os.remove('./sheet.html')\n",
    "    os.remove(OutPath)"
   ]
  },
  {
   "cell_type": "code",
   "execution_count": 4,
   "metadata": {},
   "outputs": [],
   "source": [
    "generatePDF('ServiceLogSample.xlsx', 'Out.pdf')"
   ]
  },
  {
   "cell_type": "code",
   "execution_count": 5,
   "metadata": {},
   "outputs": [],
   "source": [
    "cleanPDF('Out.pdf')"
   ]
  },
  {
   "cell_type": "code",
   "execution_count": 15,
   "metadata": {},
   "outputs": [],
   "source": [
    "def generatePNG(XLSXPath, OutPath):\n",
    "    workbook = Workbook(XLSXPath)\n",
    "    workbook.save(f\"sheet.png\", SaveFormat.PNG)\n",
    "    img = cv2.imread(\"sheet.png\")\n",
    "    cropped = img[20:-100]\n",
    "    cv2.imwrite(OutPath, cropped)\n",
    "\n",
    "def cleanPNG(OutPath):\n",
    "    os.remove('./sheet.png')\n",
    "    os.remove(OutPath)"
   ]
  },
  {
   "cell_type": "code",
   "execution_count": 16,
   "metadata": {},
   "outputs": [],
   "source": [
    "generatePNG('ServiceLogSample.xlsx', 'Out.png')"
   ]
  },
  {
   "cell_type": "code",
   "execution_count": 17,
   "metadata": {},
   "outputs": [],
   "source": [
    "cleanPNG('Out.png')"
   ]
  }
 ],
 "metadata": {
  "interpreter": {
   "hash": "e7370f93d1d0cde622a1f8e1c04877d8463912d04d973331ad4851f04de6915a"
  },
  "kernelspec": {
   "display_name": "Python 3.9.7 64-bit",
   "language": "python",
   "name": "python3"
  },
  "language_info": {
   "codemirror_mode": {
    "name": "ipython",
    "version": 3
   },
   "file_extension": ".py",
   "mimetype": "text/x-python",
   "name": "python",
   "nbconvert_exporter": "python",
   "pygments_lexer": "ipython3",
   "version": "3.9.7"
  },
  "orig_nbformat": 4
 },
 "nbformat": 4,
 "nbformat_minor": 2
}
